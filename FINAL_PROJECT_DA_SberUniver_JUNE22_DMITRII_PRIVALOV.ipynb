{
 "cells": [
  {
   "cell_type": "code",
   "execution_count": 146,
   "metadata": {},
   "outputs": [],
   "source": [
    "import requests\n",
    "import numpy as np\n",
    "import pandas as pd\n",
    "import seaborn as sns\n",
    "from matplotlib import pyplot as plt\n",
    "import time\n",
    "import os\n",
    "import re\n",
    "from sklearn.feature_extraction.text import TfidfVectorizer\n",
    "from pymorphy2 import MorphAnalyzer\n",
    "from sklearn.metrics.pairwise import cosine_similarity\n",
    "\n",
    "%matplotlib inline"
   ]
  },
  {
   "cell_type": "code",
   "execution_count": 3,
   "metadata": {},
   "outputs": [
    {
     "name": "stdout",
     "output_type": "stream",
     "text": [
      "[nltk_data] Downloading package stopwords to\n",
      "[nltk_data]     C:\\Users\\iraid\\AppData\\Roaming\\nltk_data...\n",
      "[nltk_data]   Package stopwords is already up-to-date!\n"
     ]
    }
   ],
   "source": [
    "import nltk\n",
    "nltk.download('stopwords')\n",
    "from nltk.corpus import stopwords"
   ]
  },
  {
   "cell_type": "markdown",
   "metadata": {},
   "source": [
    "# Скачивание описаний вакансий"
   ]
  },
  {
   "cell_type": "markdown",
   "metadata": {},
   "source": [
    "## С использованием API ΗΗ"
   ]
  },
  {
   "cell_type": "markdown",
   "metadata": {},
   "source": [
    "#### Формирование списка id вакансий для последующего скачивания описаний и прочих параметров каждой из них"
   ]
  },
  {
   "cell_type": "code",
   "execution_count": 405,
   "metadata": {},
   "outputs": [],
   "source": [
    "page=0\n",
    "per_page=100\n",
    "\n",
    "\n",
    "url=f'https://api.hh.ru/vacancies?per_page={per_page}&page={page}'\n",
    "\n",
    "res=requests.get(url)\n",
    "\n",
    "vacancies=res.json()\n",
    "\n",
    "vacancies_id=set({})\n",
    "\n",
    "while 'items' in vacancies.keys():\n",
    "    for i in range(len(vacancies['items'])):\n",
    "        vacancies_id.add(vacancies['items'][i]['id'])\n",
    "    \n",
    "    page+=1\n",
    "    \n",
    "    url=f'https://api.hh.ru/vacancies?per_page={per_page}&page={page}'\n",
    "    \n",
    "    res=requests.get(url)\n",
    "\n",
    "    vacancies=res.json()\n",
    "    \n",
    "    #print(url)\n",
    "\n",
    "vacancies_id=list(vacancies_id)"
   ]
  },
  {
   "cell_type": "code",
   "execution_count": 406,
   "metadata": {},
   "outputs": [
    {
     "name": "stdout",
     "output_type": "stream",
     "text": [
      "Количество вакансий: 2000\n"
     ]
    }
   ],
   "source": [
    "print('Количество вакансий: {0}'.format(len(vacancies_id)))"
   ]
  },
  {
   "cell_type": "markdown",
   "metadata": {},
   "source": [
    "#### Сохранение списка id вакансий"
   ]
  },
  {
   "cell_type": "code",
   "execution_count": 407,
   "metadata": {},
   "outputs": [],
   "source": [
    "#f=open(r'D:\\Дима\\Учеба\\ML\\DA.SberUniversity\\Final project\\hh_vacancies_id.txt','w')\n",
    "#for vac in vacancies_id:\n",
    "    #f.write(str(vac)+'\\n')\n",
    "#f.close()"
   ]
  },
  {
   "cell_type": "markdown",
   "metadata": {},
   "source": [
    "#### Сбрка и предобработка описаний вакансий"
   ]
  },
  {
   "cell_type": "code",
   "execution_count": 408,
   "metadata": {},
   "outputs": [],
   "source": [
    "# функция, удаляющая все символы, кроме букв, цифр, пробелов (а также группы пробелов), подчеркиваний, и приводящая слова к нормальной форме\n",
    "def cleaner_1(s):\n",
    "    \n",
    "    morph=MorphAnalyzer()\n",
    "    \n",
    "    s=re.sub('\\W',' ',s)\n",
    "    clean=[]\n",
    "    for token in s.split(' '):\n",
    "        if token!='':\n",
    "            clean.append(morph.normal_forms(token)[0])\n",
    "    return ' '.join(clean)    \n",
    "\n",
    "cnt_vac=len(vacancies_id)\n",
    "\n",
    "\n",
    "#собираем из вакансий необходимую информацию\n",
    "\n",
    "agg_description=[]\n",
    "\n",
    "\n",
    "for i in range(len(vacancies_id[:cnt_vac])):\n",
    "    \n",
    "    \n",
    "    url_one=f'https://api.hh.ru/vacancies/{vacancies_id[i]}'\n",
    "\n",
    "    res_one=requests.get(url_one)\n",
    "\n",
    "    vacancy=res_one.json()\n",
    "\n",
    "    def ValExist(d,k):\n",
    "        if k in d.keys() and d[k] is not None:\n",
    "            return True\n",
    "        else:\n",
    "            return False\n",
    "\n",
    "    if ValExist(vacancy,'name'):\n",
    "        name=vacancy['name']\n",
    "    else:\n",
    "        name=''\n",
    "\n",
    "    if ValExist(vacancy,'area'):\n",
    "        area=vacancy['area']['name']\n",
    "    else:\n",
    "        area=''\n",
    "\n",
    "    if ValExist(vacancy,'salary'):\n",
    "        rep=lambda x: 'рубль' if x=='RUR' else 'валюта'\n",
    "        currency=rep(vacancy['salary']['currency'])\n",
    "    else:\n",
    "        currency=''\n",
    "\n",
    "    if ValExist(vacancy,'address'):\n",
    "        if ValExist(vacancy['address'],'city'):\n",
    "            city = vacancy['address']['city']\n",
    "        else:\n",
    "            city=''\n",
    "        if ValExist(vacancy['address'],'street'):\n",
    "            street = vacancy['address']['street']\n",
    "        else:\n",
    "            street=''\n",
    "        if ValExist(vacancy['address'],'building'):\n",
    "            building = vacancy['address']['building']\n",
    "        else:\n",
    "            building=''\n",
    "        \n",
    "        address= city + ' ' + street + ' ' + building\n",
    "    else:\n",
    "        address=''\n",
    "\n",
    "    if ValExist(vacancy,'experience'):\n",
    "        experience = vacancy['experience']['name']\n",
    "    else:\n",
    "        experience=''\n",
    "\n",
    "    if ValExist(vacancy,'experience'):\n",
    "        schedule=vacancy['schedule']['name']\n",
    "    else:\n",
    "        schedule=''\n",
    "\n",
    "    if ValExist(vacancy,'employment'):\n",
    "        employment=vacancy['employment']['name']\n",
    "    else:\n",
    "        employment=''\n",
    "\n",
    "    if ValExist(vacancy,'description'):\n",
    "        reg=r'</li>|<li>|<strong>|</strong>|<br />|</ul>|<ul>|</p>|<p>|<hr />|<ol>|<em>|</em>'\n",
    "        description=re.sub(reg,'',vacancy['description'])\n",
    "    else:\n",
    "        description=''\n",
    "\n",
    "    if ValExist(vacancy,'key_skills'):\n",
    "        key_skills=''\n",
    "        for ks in vacancy['key_skills']:\n",
    "            key_skills+=ks['name']+' '\n",
    "    else:\n",
    "        key_skills=''\n",
    "\n",
    "    if ValExist(vacancy,'specializations'):\n",
    "        specializations=set({})\n",
    "        for v in vacancy['specializations']:\n",
    "            specializations.add(v['name'])\n",
    "            specializations.add(v['profarea_name'])\n",
    "        specializations=' '.join(list(specializations))\n",
    "    else:\n",
    "        specializations=''\n",
    "\n",
    "    if ValExist(vacancy,'professional_roles'):\n",
    "        professional_roles=set({})\n",
    "        for v in vacancy['professional_roles']:\n",
    "            professional_roles.add(v['name'])\n",
    "        professional_roles=' '.join(list(professional_roles))\n",
    "    else:\n",
    "        professional_roles=''\n",
    "\n",
    "    if ValExist(vacancy,'employer'):\n",
    "        employer=vacancy['employer']['name']\n",
    "    else:\n",
    "        employer=''\n",
    "\n",
    "    if ValExist(vacancy,'working_time_intervals'):\n",
    "        working_time_intervals=set({})\n",
    "        for v in vacancy['working_time_intervals']:\n",
    "            working_time_intervals.add(v['name'])\n",
    "        working_time_intervals=' '.join(list(working_time_intervals))\n",
    "    else:\n",
    "        working_time_intervals=''\n",
    "\n",
    "    agg_vac= name + ' ' + area + ' ' + currency + ' ' + address + ' ' + experience + ' ' + schedule + ' ' + employment \\\n",
    "                     + ' ' + description + ' ' + key_skills + ' ' + specializations + ' ' + professional_roles \\\n",
    "                     + ' ' + employer + ' ' + working_time_intervals\n",
    "    \n",
    "    \n",
    "    agg_description.append(cleaner_1(agg_vac))\n",
    "\n",
    "dfvac=pd.DataFrame({'id_vacancies':vacancies_id[:cnt_vac],'full_description':agg_description})"
   ]
  },
  {
   "cell_type": "markdown",
   "metadata": {},
   "source": [
    "#### Примеры резюме"
   ]
  },
  {
   "cell_type": "code",
   "execution_count": 409,
   "metadata": {
    "collapsed": true
   },
   "outputs": [],
   "source": [
    "resume_1=\"\"\"Образование: сентябрь 1996 г. – июнь 1998 г. Техникум учёта и механизации, финансовый факультет, специальность – «документоведение», диплом младшего специалиста (дневное отделение). \n",
    "Дополнительное образование: январь 2007 г. – апрель 2007 г. Курсы по изучению программы 1С. \n",
    "\n",
    "Опыт работы: \n",
    "\n",
    "Архивариус август 1998 г. – сентябрь 2005 г. ООО «Оптокомг», г. Киров \n",
    "Функциональные обязанности: \n",
    "— хранение архивных документов; \n",
    "— регистрация и систематизация архивных документов; \n",
    "— выдача документов и контроль их возврата; \n",
    "— периодическая инвентаризация. \n",
    "\n",
    "Кладовщик сентябрь 2005 г. – май 2008 г. ПАО «Спец-торг», г. Киров\n",
    "Функциональные обязанности: \n",
    "— приём, хранение и отпуск товарно-материальных ценностей; \n",
    "— обеспечение сохранности ценностей на складе; \n",
    "— учёт складских операций; \n",
    "— составление отчётности. \n",
    "\n",
    "Кладовщик июль 2008 г. – февраль 2014 г. ПАО «Холдинг-групп», г. Киров\n",
    "Функциональные обязанности: \n",
    "— ведение учёта складских операций; \n",
    "— проведение разгрузочно-погрузочной работы с продуктами питания;\n",
    "— обеспечение целостности и сохранности материальных ценностей на складе; \n",
    "— обеспечение правильной и безопасной эксплуатации оборудования. \n",
    "\n",
    "Профессиональные навыки: \n",
    "— Уверенный пользователь ПК, знание офисных программ, в т.ч. 1С; \n",
    "— Владение офисной техникой (сканер, принтер, факс); \n",
    "— Знание норм складского учёта; \n",
    "— Знание складской логистики; \n",
    "— Владение языками: русский свободно; английский – со словарём. \n",
    "\n",
    "Личные качества: \n",
    "— ответственность;\n",
    "— усидчивость; \n",
    "— организованность; \n",
    "— честность; \n",
    "— внимательность к мелочам; \n",
    "— хорошая память. \n",
    "\n",
    "Дополнительные сведения: \n",
    "Семейное положение: женат. \n",
    "Дети: есть. \n",
    "Возможность командировок: нет.\"\"\"\n"
   ]
  },
  {
   "cell_type": "code",
   "execution_count": 410,
   "metadata": {
    "collapsed": true
   },
   "outputs": [],
   "source": [
    "resume_2=\"\"\"\n",
    "Образование физик, ФИЗТЕХ.\n",
    "Знаю математический анализ, теорию графов, математическую статистику и теорию вероятности.\n",
    "Умею строить математические модели спроса, количества продаж, структуры сети ретэйла.\n",
    "Владею С++, С#, JavaScript, Python, VBA.\n",
    "Призер соревнований по ML: умею строить сложные модели и их ансамбли (XGBoost,CatBoost,pipeline,TensorFlow) с реализацией в web (JavaScript)\n",
    "Желаемое место работы: г. Казань. З/п 120000 рублей.\n",
    "Ответственный, любопытный, перфекционист.\n",
    "\"\"\""
   ]
  },
  {
   "cell_type": "code",
   "execution_count": 411,
   "metadata": {
    "collapsed": true
   },
   "outputs": [],
   "source": [
    "resume_3=\"\"\"Программист высокого уровня. C#,C++,JavaScript,Python. Бэкенд разработка.\"\"\""
   ]
  },
  {
   "cell_type": "markdown",
   "metadata": {},
   "source": [
    "#### Выбираем одно из резюме и делаем его токенизацию, лемматизацию и чистку от знаков препинания"
   ]
  },
  {
   "cell_type": "code",
   "execution_count": 412,
   "metadata": {
    "collapsed": true
   },
   "outputs": [],
   "source": [
    "resume=cleaner_1(resume_3)"
   ]
  },
  {
   "cell_type": "markdown",
   "metadata": {},
   "source": [
    "#### Объединяем вакансии и резюме для единой векторизации"
   ]
  },
  {
   "cell_type": "code",
   "execution_count": 413,
   "metadata": {},
   "outputs": [],
   "source": [
    "train_corpus=dfvac['full_description'].values\n",
    "train_corpus=np.append(train_corpus,resume)"
   ]
  },
  {
   "cell_type": "markdown",
   "metadata": {},
   "source": [
    "#### Добавляем стоп-слова для исключения из мешка "
   ]
  },
  {
   "cell_type": "code",
   "execution_count": 414,
   "metadata": {},
   "outputs": [],
   "source": [
    "stop=stopwords.words('russian')"
   ]
  },
  {
   "cell_type": "markdown",
   "metadata": {},
   "source": [
    "#### Проводим \"обучение\" для последующей векторизации вакансий и резюме"
   ]
  },
  {
   "cell_type": "code",
   "execution_count": 415,
   "metadata": {},
   "outputs": [
    {
     "data": {
      "text/plain": [
       "TfidfVectorizer(analyzer='word', binary=False, decode_error='strict',\n",
       "        dtype=<class 'numpy.int64'>, encoding='utf-8', input='content',\n",
       "        lowercase=True, max_df=1.0, max_features=None, min_df=1,\n",
       "        ngram_range=(1, 1), norm='l2', preprocessor=None, smooth_idf=True,\n",
       "        stop_words=['и', 'в', 'во', 'не', 'что', 'он', 'на', 'я', 'с', 'со', 'как', 'а', 'то', 'все', 'она', 'так', 'его', 'но', 'да', 'ты', 'к', 'у', 'же', 'вы', 'за', 'бы', 'по', 'только', 'ее', 'мне', 'было', 'вот', 'от', 'меня', 'еще', 'нет', 'о', 'из', 'ему', 'теперь', 'когда', 'даже', 'ну', 'вдруг', '...гда', 'лучше', 'чуть', 'том', 'нельзя', 'такой', 'им', 'более', 'всегда', 'конечно', 'всю', 'между'],\n",
       "        strip_accents=None, sublinear_tf=False,\n",
       "        token_pattern='(?u)\\\\b\\\\w\\\\w+\\\\b', tokenizer=None, use_idf=True,\n",
       "        vocabulary=None)"
      ]
     },
     "execution_count": 415,
     "metadata": {},
     "output_type": "execute_result"
    }
   ],
   "source": [
    "text_transformer=TfidfVectorizer(stop_words=stop)\n",
    "text_transformer.fit(train_corpus)"
   ]
  },
  {
   "cell_type": "markdown",
   "metadata": {},
   "source": [
    "#### Проводим векторизацию"
   ]
  },
  {
   "cell_type": "code",
   "execution_count": 416,
   "metadata": {
    "collapsed": true
   },
   "outputs": [],
   "source": [
    "# \"векторизуем\" вакансии\n",
    "vectorized_vacancies=text_transformer.transform(dfvac['full_description'])"
   ]
  },
  {
   "cell_type": "code",
   "execution_count": 417,
   "metadata": {},
   "outputs": [],
   "source": [
    "# \"векторизуем\" резюме\n",
    "resume=[resume]\n",
    "vectorized_resume=text_transformer.transform(resume)"
   ]
  },
  {
   "cell_type": "markdown",
   "metadata": {},
   "source": [
    "#### Собираем результат в единый DataFrame"
   ]
  },
  {
   "cell_type": "code",
   "execution_count": 418,
   "metadata": {},
   "outputs": [],
   "source": [
    "# формируем датафрейм с кодом вакансии и косинусным расстоянием\n",
    "TOP_sutable_vac=pd.DataFrame({'id_vacancies':dfvac['id_vacancies'].values,\\\n",
    "                              'cosine_metric':cosine_similarity(vectorized_vacancies,vectorized_resume).T[0]})"
   ]
  },
  {
   "cell_type": "code",
   "execution_count": 419,
   "metadata": {},
   "outputs": [],
   "source": [
    "# сортируем вакансии по убыванию \"близости\" к резюме\n",
    "TOP_sutable_vac.sort_values(by='cosine_metric',ascending=False,inplace=True)"
   ]
  },
  {
   "cell_type": "code",
   "execution_count": 420,
   "metadata": {},
   "outputs": [
    {
     "data": {
      "text/html": [
       "<div>\n",
       "<style scoped>\n",
       "    .dataframe tbody tr th:only-of-type {\n",
       "        vertical-align: middle;\n",
       "    }\n",
       "\n",
       "    .dataframe tbody tr th {\n",
       "        vertical-align: top;\n",
       "    }\n",
       "\n",
       "    .dataframe thead th {\n",
       "        text-align: right;\n",
       "    }\n",
       "</style>\n",
       "<table border=\"1\" class=\"dataframe\">\n",
       "  <thead>\n",
       "    <tr style=\"text-align: right;\">\n",
       "      <th></th>\n",
       "      <th>id_vacancies</th>\n",
       "      <th>cosine_metric</th>\n",
       "    </tr>\n",
       "  </thead>\n",
       "  <tbody>\n",
       "    <tr>\n",
       "      <td>693</td>\n",
       "      <td>55427361</td>\n",
       "      <td>0.264255</td>\n",
       "    </tr>\n",
       "    <tr>\n",
       "      <td>1692</td>\n",
       "      <td>55346662</td>\n",
       "      <td>0.244388</td>\n",
       "    </tr>\n",
       "    <tr>\n",
       "      <td>78</td>\n",
       "      <td>55570434</td>\n",
       "      <td>0.243958</td>\n",
       "    </tr>\n",
       "    <tr>\n",
       "      <td>650</td>\n",
       "      <td>55896729</td>\n",
       "      <td>0.239641</td>\n",
       "    </tr>\n",
       "    <tr>\n",
       "      <td>127</td>\n",
       "      <td>66131995</td>\n",
       "      <td>0.221132</td>\n",
       "    </tr>\n",
       "  </tbody>\n",
       "</table>\n",
       "</div>"
      ],
      "text/plain": [
       "     id_vacancies  cosine_metric\n",
       "693      55427361       0.264255\n",
       "1692     55346662       0.244388\n",
       "78       55570434       0.243958\n",
       "650      55896729       0.239641\n",
       "127      66131995       0.221132"
      ]
     },
     "execution_count": 420,
     "metadata": {},
     "output_type": "execute_result"
    }
   ],
   "source": [
    "TOP_sutable_vac.head()"
   ]
  },
  {
   "cell_type": "code",
   "execution_count": 421,
   "metadata": {},
   "outputs": [
    {
     "name": "stdout",
     "output_type": "stream",
     "text": [
      "Начинающий python backend разработчик:\n",
      "Компания Webim предоставляет платформу для общения компаний с их клиентами. Наш сервис ежедневно обрабатывает сотни тысяч обращений Чем предстоит заниматься:   Разработка бэкенд-компонентов в большом проекте чата для организаций;   Писать код, проходить код ревью, ревьюить чужой код, давайть оценки, решать сложные проблемы, фиксить баги и т.д.   Работать с командными инструментами: git/BitBucket, JIRA, PyCharm, WebStorm, IDEA Ultimate, Confluence, Jenkins и др.   Требования/пожелания:  Python; Базовое понимание CSS\\HTML\\JS будет преимуществом; Angular будет преимуществом; Опыт работы с базами данных (требуется знание raw SQL, знакомство с PostgreSQL, MySQL, Clickhouse, а также Elastic Search будет плюсом); Знание алгоритмов и структур данных; Умение настраивать окружение WEB-серверов (nginx будет Вашим преимуществом); Способность принимать и вовремя давать обратную связь по поводу того, что происходит в проекте; Приветствуется участие в олимпиадах по программированию;  Условия работы:   Возможность работы как в офисе, так и удаленно;   Гибкий график (Обязательные часы работы - с 13 до 18 по московскому времени);  Оплачиваемый отпуск; Дружный, молодой и квалифицированный коллектив; Наши клиенты большей частью это средний и крупный бизнес в финансовой и не только сферах; Офис находится в 5 минутах от м. Спортивная  \n",
      "\n",
      "\n",
      "Программист-стажер:\n",
      "Мы – молодая, динамично развивающаяся компания Globerce Capital. Мы рады вам сообщить, что летом у нас стартует стажировка для будущих разработчиков. Стажировка будет проходить по трем направлениям: Back-End Python Intern, Back-End Java Intern, Front-End ReactJS Intern. Если ты студент последних курсов университета ил недавно прошел обучение в школах программирования, то мы ждем именно тебя в нашу команду!Обязанности:   Программирование, разработка   Web инженер   Требования: Профессиональные навыки:   Базовые знания необходимых в работе технологий и языков программирования : Python (Django), Java(Spring), JavaScript, HTML, CSS, ReactJS)   Опыт создания программ приветствуется   Умение составлять и читать ТЗ приветствуется   Умение разбираться в чужом коде приветствуется   Условия:    Дружный коллектив; Интересные проекты; Возможность профессионального развития и карьерного роста; График работы 5/2  \n",
      "\n",
      "\n",
      "Программист Python (Django):\n",
      "Небольшая компания, резидент ПВТ. Разрабатываем интересные продукты для повседневной жизни. Ищем Python Developer в команду, чтобы покорять вместе с нами новые вершины. Что нужно делать такому классному питонщику?  создавать Web-сервисы и микросервисы; писать код на Python; проектировать и реализовывать API для веб, мобильных и приложений;  Что нужно будет делать?  разработка серверной части на Django написание API для взаимодействия с мобильными ОС написание документации к проектам  Для таких задач нам нужен человек, который:  Уверенное знание языка Python3 Опыт работы с Linux, GIT; Знания реляционных баз данных и SQL. Опыт работы с фреймворком Django и Django rest framework  А плюшки у нас такие:  рабочий график с возможностью гибкого начала дня (выходные - сб/вс); чистая ЗП, защищенная от инфляции; полное отсутствие бюрократии (мы же в 21 веке все-таки); возможность развиваться и прокачивать свои навыки ; современный офис недалеко от метро;  Присоединяйся к нам! \n",
      "\n",
      "\n",
      "Стажер Backend разработчик (Junior, intern):\n",
      "Обязанности:  Участие в разработке веб-приложений разрабатывать и развивать бэкенд платформ Компании и мобильных приложений (новые фичи, доработка текущих, работа над улучшением кодовой базы);  Требования:  знание ООП знание Rest API знание языка Python или Node.js PostgreSql Будет плюсом знание МоngoDB желание много работать и развиваться  Условия:  Официальное трудоустройство  достойная заработная плата (обсуждается на собеседовании);   гибкий график и уютный, современный офис;   крутая, молодая команда;   интересные и живые международные проекты, нестандартные задачи, возможность влиять на продукт;   работа с самыми крутыми и современными технологиями;   реальные перспективы роста и возможности развивать свои навыки в компании работающей на мировой рынок, разрабатывая и внедряя свои идеи для нашего огромного сообщества пользователей;   \n",
      "\n",
      "\n",
      "Программист-стажер:\n",
      "Строительная компания &quot;Ларссон&quot; лидер на рынке Москвы и Подмосковья по внутренней отделке: квартир, домов, коттеджей, офисов. В связи с ростом компании мы в поисках стажёров-программистов с минимальным опытом работы в данной области, так же рассматриваем студентов с последних курсов технических ВУЗов! Мы предлагаем:  З/П от 60 000 рублей (оклад+KPI); График 5/2 с гибким началом и окончанием рабочего дня; Закреплённый опытный наставник; Профессиональную подготовку и обучение за счет компании; Возможность карьерного роста; Развитая корпоративная культура (чай, кофе, сладости, настольные игры, корпоративы); Комфортабельный офис в 1мин. от метро Римская.   Что от тебя ждем:  Выпускник или также студент последнего курса технического ВУЗа по специальности информационные технологии; Начальные навыки программирования (опыт программирования хотя бы на одном из языков); Аналитический склад ума; Правильная и грамотная речь: умение кратко и точно выражать свои мысли.  Хотите развиваться с нами? Откликайтесь! \n",
      "\n",
      "\n",
      "Frontend-разработчик JS (стажер):\n",
      "UCHi.Ru​ — международная IT-компания, занимающаяся разработкой e-learning платформы для школьного обучения.  Приглашаем студентов последних курсов, выпускников IT-специальностей на оплачиваемую стажировку (6 месяцев). От тебя:  большое желание учиться и развиваться; любовь к программированию; представление о JavaScript или typescript, базовое владение одним из фреймворков: reactjs, vuejs, svelte, angular (может быть делал что-то для себя или в рамках учебы).  Мы предлагаем:  интересную работу в развивающейся компании; обучение в процессе работы под руководством опытного программиста; работа в команде профессионалов; достойную компенсацию труда и знаний; оформление с первого дня стажировки; удаленный формат работы.  \n",
      "\n",
      "\n",
      "Frontend-разработчик JS (стажер):\n",
      "UCHi.Ru​ — международная IT-компания, занимающаяся разработкой e-learning платформы для школьного обучения.  Приглашаем студентов последних курсов, выпускников IT-специальностей на оплачиваемую стажировку ( 6 месяцев ). От тебя:  большое желание учиться и развиваться; любовь к программированию; представление о JavaScript или typescript, базовое владение одним из фреймворков: reactjs, vuejs, svelte, angular (может быть делал что-то для себя или в рамках учебы).  Мы предлагаем:  интересную работу в развивающейся компании; обучение в процессе работы под руководством опытного программиста; работа в команде профессионалов; достойную компенсацию труда и знаний; оформление с первого дня стажировки; удаленный формат работы.  \n",
      "\n",
      "\n",
      "Начинающий веб-разработчик:\n",
      "В веб-студию требуется junior программист который не стоит на месте и стремится повысить уровень своих знаний. Работал со стеком технологий: - PHP- Mysql- Javascript- GIT- Фреймворки (опционально)- Node.js Будет плюсом Кодовое слово: iloveweb   Обязанности:  Администрирование и доработка существующих проектов Создание новых веб-сайтов (сайт визитки, порталы, интернет-магазины) Разработка дополнений к различным CMS  Требования:  PHP (базовый) Понимание принципов работы MVC Опыт работы с популярными CMS  Условия:  Официальное трудоустройство 10:00-18:00, 5/2  \n",
      "\n",
      "\n",
      "Frontend разработчик (стажёр):\n",
      "Global-Systems - международная, продуктовая IT-компания. Нашими продуктами пользуются в 5 странах мира. За 2 месяца тебе предстоит работать над реальными задачами в проектах, учиться у Senior разработчиков, которые станут твоими менторами на время стажировки.   Обязанности:  Разработка фронтенд  Требования:  Знание HTML, CSS, Javascript Желательно знание фреймворка Vue.js или React Знание английского языка на уровне чтения технической документации  Условия:  У вас будет ментор (наставник), который вам будет помогать Стажировка бесплатная Вы можете работать удаленно либо у нас в офисе Срок стажировки: 2 месяца, по окончанию стажировки лучшим будет предложена оплачиваемая работа  \n",
      "\n",
      "\n",
      "Frontend-разработчик:\n",
      "Ищем Frontend разработчика в крупную австралийскую компанию, лидер в разработке программных решений в области горнодобывающей деятельности. Нашими продуктами пользуются компании во всем мире, а создаем мы их в московском офисе уже на протяжении 15 лет. Что хотели бы видеть у вас:  Хорошо знать Javascript (ES5-ES6); Знание HTML, CSS, SCSS, JS, TS; Опыт работы с React, Redux от 1,5 лет; Разговорный английский - мы постоянно общаемся с нашими англоязычными коллегами; Кроссбраузерная верстка; Умение работать с Git и Jira;  Что предлагаем:  Полностью белая заработная плата; Офис в одной минуте пешком от м. Семеновская; Потрясающий вид из окна с 31 этажа; Медицинская страховка; Оплачиваемые конференции;  \n",
      "\n",
      "\n"
     ]
    }
   ],
   "source": [
    "# выбираем ТОП=10 вакансий и выводим их названия и описания\n",
    "TOP=10\n",
    "for i in range(TOP):\n",
    "    \n",
    "    url_one=f'https://api.hh.ru/vacancies/{TOP_sutable_vac.iloc[i,0]}'\n",
    "\n",
    "    res_one=requests.get(url_one)\n",
    "\n",
    "    vacancy=res_one.json()\n",
    "    print('{0}:\\n{1} \\n\\n'.format(vacancy['name'],re.sub(reg,'',vacancy['description'])))"
   ]
  },
  {
   "cell_type": "code",
   "execution_count": null,
   "metadata": {
    "collapsed": true
   },
   "outputs": [],
   "source": []
  },
  {
   "cell_type": "code",
   "execution_count": null,
   "metadata": {
    "collapsed": true
   },
   "outputs": [],
   "source": []
  }
 ],
 "metadata": {
  "kernelspec": {
   "display_name": "Python 3",
   "language": "python",
   "name": "python3"
  },
  "language_info": {
   "codemirror_mode": {
    "name": "ipython",
    "version": 3
   },
   "file_extension": ".py",
   "mimetype": "text/x-python",
   "name": "python",
   "nbconvert_exporter": "python",
   "pygments_lexer": "ipython3",
   "version": "3.6.3"
  }
 },
 "nbformat": 4,
 "nbformat_minor": 2
}

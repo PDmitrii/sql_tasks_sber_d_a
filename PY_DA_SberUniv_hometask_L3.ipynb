{
 "cells": [
  {
   "cell_type": "code",
   "execution_count": 1,
   "metadata": {
    "collapsed": true
   },
   "outputs": [],
   "source": [
    "%matplotlib inline\n",
    "import yfinance as yf\n",
    "import requests\n",
    "import pandas as pd\n",
    "import numpy as np\n",
    "import datetime\n",
    "import matplotlib.pyplot as plt\n",
    "import seaborn; seaborn.set()\n",
    "from pandas_datareader import data as pdr\n",
    "from bs4 import BeautifulSoup"
   ]
  },
  {
   "cell_type": "code",
   "execution_count": 2,
   "metadata": {
    "collapsed": true
   },
   "outputs": [],
   "source": [
    "import wget\n",
    "import bs4"
   ]
  },
  {
   "cell_type": "code",
   "execution_count": 3,
   "metadata": {
    "collapsed": true
   },
   "outputs": [],
   "source": [
    "import os"
   ]
  },
  {
   "cell_type": "markdown",
   "metadata": {},
   "source": [
    "##### Получим данные о том, как торгуется нефть на американском рынке\n",
    "(будем считать, что единицы измерения - тонны)"
   ]
  },
  {
   "cell_type": "code",
   "execution_count": 4,
   "metadata": {
    "collapsed": true
   },
   "outputs": [],
   "source": [
    "HOST='https://finance.yahoo.com/'\n",
    "URL='https://finance.yahoo.com/quote/CL%3DF/history?p=CL%3DF'\n",
    "HEADERS={'accept':'text/html,application/xhtml+xml,application/xml;q=0.9,image/avif,image/webp,image/apng,*/*;q=0.8,application/signed-exchange;v=b3;q=0.9','user-agent':'Mozilla/5.0 (Windows NT 10.0; WOW64) AppleWebKit/537.36 (KHTML, like Gecko) Chrome/98.0.4758.119 YaBrowser/22.3.0.2434 Yowser/2.5 Safari/537.36'}"
   ]
  },
  {
   "cell_type": "code",
   "execution_count": 5,
   "metadata": {
    "collapsed": true
   },
   "outputs": [],
   "source": [
    "html=requests.get(URL,headers=HEADERS)"
   ]
  },
  {
   "cell_type": "code",
   "execution_count": 6,
   "metadata": {
    "collapsed": true
   },
   "outputs": [],
   "source": [
    "soup=BeautifulSoup(html.text,'html.parser')\n",
    "items=soup.find_all('tr',class_='BdT Bdc($seperatorColor) Ta(end) Fz(s) Whs(nw)') # _198Sj margin-hor-default"
   ]
  },
  {
   "cell_type": "code",
   "execution_count": 7,
   "metadata": {
    "collapsed": true
   },
   "outputs": [],
   "source": [
    "mixed_list=[]\n",
    "list_of_lists=[]\n",
    "\n",
    "for item in items:\n",
    "    for i in range(len(item.find_all('td'))):\n",
    "        mixed_list.append(item.find_all('td')[i].find('span').text)"
   ]
  },
  {
   "cell_type": "code",
   "execution_count": 8,
   "metadata": {
    "collapsed": true
   },
   "outputs": [],
   "source": [
    "for i in range(len(mixed_list)//7):\n",
    "    list_of_lists.append(mixed_list[i*7:(i+1)*7])"
   ]
  },
  {
   "cell_type": "code",
   "execution_count": 9,
   "metadata": {
    "collapsed": true
   },
   "outputs": [],
   "source": [
    "Oil_prices=pd.DataFrame(list_of_lists,columns=['Date','Open','High','Low','Close','Adj_Close','Volume'])"
   ]
  },
  {
   "cell_type": "code",
   "execution_count": 10,
   "metadata": {},
   "outputs": [
    {
     "data": {
      "text/html": [
       "<div>\n",
       "<style scoped>\n",
       "    .dataframe tbody tr th:only-of-type {\n",
       "        vertical-align: middle;\n",
       "    }\n",
       "\n",
       "    .dataframe tbody tr th {\n",
       "        vertical-align: top;\n",
       "    }\n",
       "\n",
       "    .dataframe thead th {\n",
       "        text-align: right;\n",
       "    }\n",
       "</style>\n",
       "<table border=\"1\" class=\"dataframe\">\n",
       "  <thead>\n",
       "    <tr style=\"text-align: right;\">\n",
       "      <th></th>\n",
       "      <th>Date</th>\n",
       "      <th>Open</th>\n",
       "      <th>High</th>\n",
       "      <th>Low</th>\n",
       "      <th>Close</th>\n",
       "      <th>Adj_Close</th>\n",
       "      <th>Volume</th>\n",
       "    </tr>\n",
       "  </thead>\n",
       "  <tbody>\n",
       "    <tr>\n",
       "      <td>0</td>\n",
       "      <td>Apr 20, 2022</td>\n",
       "      <td>103.05</td>\n",
       "      <td>104.16</td>\n",
       "      <td>100.70</td>\n",
       "      <td>102.68</td>\n",
       "      <td>102.68</td>\n",
       "      <td>6,301</td>\n",
       "    </tr>\n",
       "    <tr>\n",
       "      <td>1</td>\n",
       "      <td>Apr 19, 2022</td>\n",
       "      <td>107.75</td>\n",
       "      <td>108.92</td>\n",
       "      <td>102.10</td>\n",
       "      <td>102.56</td>\n",
       "      <td>102.56</td>\n",
       "      <td>68,489</td>\n",
       "    </tr>\n",
       "    <tr>\n",
       "      <td>2</td>\n",
       "      <td>Apr 18, 2022</td>\n",
       "      <td>107.03</td>\n",
       "      <td>109.81</td>\n",
       "      <td>106.00</td>\n",
       "      <td>108.21</td>\n",
       "      <td>108.21</td>\n",
       "      <td>68,489</td>\n",
       "    </tr>\n",
       "    <tr>\n",
       "      <td>3</td>\n",
       "      <td>Apr 14, 2022</td>\n",
       "      <td>104.20</td>\n",
       "      <td>107.64</td>\n",
       "      <td>102.12</td>\n",
       "      <td>106.95</td>\n",
       "      <td>106.95</td>\n",
       "      <td>244,952</td>\n",
       "    </tr>\n",
       "    <tr>\n",
       "      <td>4</td>\n",
       "      <td>Apr 13, 2022</td>\n",
       "      <td>100.91</td>\n",
       "      <td>104.47</td>\n",
       "      <td>99.87</td>\n",
       "      <td>104.25</td>\n",
       "      <td>104.25</td>\n",
       "      <td>312,502</td>\n",
       "    </tr>\n",
       "  </tbody>\n",
       "</table>\n",
       "</div>"
      ],
      "text/plain": [
       "           Date    Open    High     Low   Close Adj_Close   Volume\n",
       "0  Apr 20, 2022  103.05  104.16  100.70  102.68    102.68    6,301\n",
       "1  Apr 19, 2022  107.75  108.92  102.10  102.56    102.56   68,489\n",
       "2  Apr 18, 2022  107.03  109.81  106.00  108.21    108.21   68,489\n",
       "3  Apr 14, 2022  104.20  107.64  102.12  106.95    106.95  244,952\n",
       "4  Apr 13, 2022  100.91  104.47   99.87  104.25    104.25  312,502"
      ]
     },
     "execution_count": 10,
     "metadata": {},
     "output_type": "execute_result"
    }
   ],
   "source": [
    "Oil_prices.head()"
   ]
  },
  {
   "cell_type": "code",
   "execution_count": 11,
   "metadata": {
    "collapsed": true
   },
   "outputs": [],
   "source": [
    "def yhooDatesConvert(yhooDate):\n",
    "    month_dic={'Jan':1,'Feb':2,'Mar':3,'Apr':4,'May':5,'Jun':6,'Jul':7,'Aug':8,'Sep':9,'Oct':10,'Nov':11,'Dec':12}\n",
    "    year=int(yhooDate.split(', ')[1])\n",
    "    month=month_dic[yhooDate.split(', ')[0].split(' ')[0]]\n",
    "    day=int(yhooDate.split(', ')[0].split(' ')[1])\n",
    "    return datetime.date(year, month, day)"
   ]
  },
  {
   "cell_type": "code",
   "execution_count": 12,
   "metadata": {
    "collapsed": true
   },
   "outputs": [],
   "source": [
    "Oil_prices.Date=Oil_prices.Date.apply(yhooDatesConvert)\n",
    "for col in Oil_prices.columns[1:6]:\n",
    "    Oil_prices[col]=Oil_prices[col].astype('float')\n",
    "Oil_prices.Volume=Oil_prices.Volume.apply(lambda v: int(v.replace(',','')))"
   ]
  },
  {
   "cell_type": "code",
   "execution_count": 13,
   "metadata": {},
   "outputs": [
    {
     "data": {
      "text/html": [
       "<div>\n",
       "<style scoped>\n",
       "    .dataframe tbody tr th:only-of-type {\n",
       "        vertical-align: middle;\n",
       "    }\n",
       "\n",
       "    .dataframe tbody tr th {\n",
       "        vertical-align: top;\n",
       "    }\n",
       "\n",
       "    .dataframe thead th {\n",
       "        text-align: right;\n",
       "    }\n",
       "</style>\n",
       "<table border=\"1\" class=\"dataframe\">\n",
       "  <thead>\n",
       "    <tr style=\"text-align: right;\">\n",
       "      <th></th>\n",
       "      <th>Date</th>\n",
       "      <th>Open</th>\n",
       "      <th>High</th>\n",
       "      <th>Low</th>\n",
       "      <th>Close</th>\n",
       "      <th>Adj_Close</th>\n",
       "      <th>Volume</th>\n",
       "    </tr>\n",
       "  </thead>\n",
       "  <tbody>\n",
       "    <tr>\n",
       "      <td>0</td>\n",
       "      <td>2022-04-20</td>\n",
       "      <td>103.05</td>\n",
       "      <td>104.16</td>\n",
       "      <td>100.70</td>\n",
       "      <td>102.68</td>\n",
       "      <td>102.68</td>\n",
       "      <td>6301</td>\n",
       "    </tr>\n",
       "    <tr>\n",
       "      <td>1</td>\n",
       "      <td>2022-04-19</td>\n",
       "      <td>107.75</td>\n",
       "      <td>108.92</td>\n",
       "      <td>102.10</td>\n",
       "      <td>102.56</td>\n",
       "      <td>102.56</td>\n",
       "      <td>68489</td>\n",
       "    </tr>\n",
       "    <tr>\n",
       "      <td>2</td>\n",
       "      <td>2022-04-18</td>\n",
       "      <td>107.03</td>\n",
       "      <td>109.81</td>\n",
       "      <td>106.00</td>\n",
       "      <td>108.21</td>\n",
       "      <td>108.21</td>\n",
       "      <td>68489</td>\n",
       "    </tr>\n",
       "    <tr>\n",
       "      <td>3</td>\n",
       "      <td>2022-04-14</td>\n",
       "      <td>104.20</td>\n",
       "      <td>107.64</td>\n",
       "      <td>102.12</td>\n",
       "      <td>106.95</td>\n",
       "      <td>106.95</td>\n",
       "      <td>244952</td>\n",
       "    </tr>\n",
       "    <tr>\n",
       "      <td>4</td>\n",
       "      <td>2022-04-13</td>\n",
       "      <td>100.91</td>\n",
       "      <td>104.47</td>\n",
       "      <td>99.87</td>\n",
       "      <td>104.25</td>\n",
       "      <td>104.25</td>\n",
       "      <td>312502</td>\n",
       "    </tr>\n",
       "    <tr>\n",
       "      <td>5</td>\n",
       "      <td>2022-04-12</td>\n",
       "      <td>95.17</td>\n",
       "      <td>101.35</td>\n",
       "      <td>94.84</td>\n",
       "      <td>100.60</td>\n",
       "      <td>100.60</td>\n",
       "      <td>329037</td>\n",
       "    </tr>\n",
       "    <tr>\n",
       "      <td>6</td>\n",
       "      <td>2022-04-11</td>\n",
       "      <td>98.40</td>\n",
       "      <td>98.52</td>\n",
       "      <td>92.93</td>\n",
       "      <td>94.29</td>\n",
       "      <td>94.29</td>\n",
       "      <td>315873</td>\n",
       "    </tr>\n",
       "    <tr>\n",
       "      <td>7</td>\n",
       "      <td>2022-04-08</td>\n",
       "      <td>97.17</td>\n",
       "      <td>98.76</td>\n",
       "      <td>95.29</td>\n",
       "      <td>98.26</td>\n",
       "      <td>98.26</td>\n",
       "      <td>310082</td>\n",
       "    </tr>\n",
       "    <tr>\n",
       "      <td>8</td>\n",
       "      <td>2022-04-07</td>\n",
       "      <td>97.16</td>\n",
       "      <td>98.82</td>\n",
       "      <td>93.81</td>\n",
       "      <td>96.03</td>\n",
       "      <td>96.03</td>\n",
       "      <td>367318</td>\n",
       "    </tr>\n",
       "    <tr>\n",
       "      <td>9</td>\n",
       "      <td>2022-04-06</td>\n",
       "      <td>101.24</td>\n",
       "      <td>104.02</td>\n",
       "      <td>95.73</td>\n",
       "      <td>96.23</td>\n",
       "      <td>96.23</td>\n",
       "      <td>366036</td>\n",
       "    </tr>\n",
       "  </tbody>\n",
       "</table>\n",
       "</div>"
      ],
      "text/plain": [
       "         Date    Open    High     Low   Close  Adj_Close  Volume\n",
       "0  2022-04-20  103.05  104.16  100.70  102.68     102.68    6301\n",
       "1  2022-04-19  107.75  108.92  102.10  102.56     102.56   68489\n",
       "2  2022-04-18  107.03  109.81  106.00  108.21     108.21   68489\n",
       "3  2022-04-14  104.20  107.64  102.12  106.95     106.95  244952\n",
       "4  2022-04-13  100.91  104.47   99.87  104.25     104.25  312502\n",
       "5  2022-04-12   95.17  101.35   94.84  100.60     100.60  329037\n",
       "6  2022-04-11   98.40   98.52   92.93   94.29      94.29  315873\n",
       "7  2022-04-08   97.17   98.76   95.29   98.26      98.26  310082\n",
       "8  2022-04-07   97.16   98.82   93.81   96.03      96.03  367318\n",
       "9  2022-04-06  101.24  104.02   95.73   96.23      96.23  366036"
      ]
     },
     "execution_count": 13,
     "metadata": {},
     "output_type": "execute_result"
    }
   ],
   "source": [
    "Oil_prices.head(10)"
   ]
  },
  {
   "cell_type": "markdown",
   "metadata": {},
   "source": [
    "##### Получим данные о курсе доллара в ЦБ РФ"
   ]
  },
  {
   "cell_type": "code",
   "execution_count": 14,
   "metadata": {
    "collapsed": true
   },
   "outputs": [],
   "source": [
    "url_dollar = \"http://cbr.ru/Queries/UniDbQuery/DownloadExcel/98956?Posted=True&so=1&mode=1&VAL_NM_RQ=R01235&From=01.03.2010&To=12.04.2022&FromDate=03%2F01%2F2010&ToDate=04%2F12%2F2022\""
   ]
  },
  {
   "cell_type": "code",
   "execution_count": 15,
   "metadata": {},
   "outputs": [
    {
     "name": "stdout",
     "output_type": "stream",
     "text": [
      "\r",
      "  0% [                                                                              ]     0 / 75254\r",
      " 10% [........                                                                      ]  8192 / 75254\r",
      " 21% [................                                                              ] 16384 / 75254\r",
      " 32% [.........................                                                     ] 24576 / 75254\r",
      " 43% [.................................                                             ] 32768 / 75254\r",
      " 54% [..........................................                                    ] 40960 / 75254\r",
      " 65% [..................................................                            ] 49152 / 75254\r",
      " 76% [...........................................................                   ] 57344 / 75254\r",
      " 87% [...................................................................           ] 65536 / 75254\r",
      " 97% [............................................................................  ] 73728 / 75254\r",
      "100% [..............................................................................] 75254 / 75254"
     ]
    }
   ],
   "source": [
    "curs_dollar = pd.read_excel(wget.download(url_dollar))"
   ]
  },
  {
   "cell_type": "code",
   "execution_count": 16,
   "metadata": {},
   "outputs": [
    {
     "data": {
      "text/html": [
       "<div>\n",
       "<style scoped>\n",
       "    .dataframe tbody tr th:only-of-type {\n",
       "        vertical-align: middle;\n",
       "    }\n",
       "\n",
       "    .dataframe tbody tr th {\n",
       "        vertical-align: top;\n",
       "    }\n",
       "\n",
       "    .dataframe thead th {\n",
       "        text-align: right;\n",
       "    }\n",
       "</style>\n",
       "<table border=\"1\" class=\"dataframe\">\n",
       "  <thead>\n",
       "    <tr style=\"text-align: right;\">\n",
       "      <th></th>\n",
       "      <th>nominal</th>\n",
       "      <th>data</th>\n",
       "      <th>curs</th>\n",
       "      <th>cdx</th>\n",
       "    </tr>\n",
       "  </thead>\n",
       "  <tbody>\n",
       "    <tr>\n",
       "      <td>0</td>\n",
       "      <td>1</td>\n",
       "      <td>2022-04-12</td>\n",
       "      <td>79.1596</td>\n",
       "      <td>Доллар США</td>\n",
       "    </tr>\n",
       "    <tr>\n",
       "      <td>1</td>\n",
       "      <td>1</td>\n",
       "      <td>2022-04-09</td>\n",
       "      <td>74.8501</td>\n",
       "      <td>Доллар США</td>\n",
       "    </tr>\n",
       "    <tr>\n",
       "      <td>2</td>\n",
       "      <td>1</td>\n",
       "      <td>2022-04-08</td>\n",
       "      <td>76.2547</td>\n",
       "      <td>Доллар США</td>\n",
       "    </tr>\n",
       "    <tr>\n",
       "      <td>3</td>\n",
       "      <td>1</td>\n",
       "      <td>2022-04-07</td>\n",
       "      <td>82.5962</td>\n",
       "      <td>Доллар США</td>\n",
       "    </tr>\n",
       "    <tr>\n",
       "      <td>4</td>\n",
       "      <td>1</td>\n",
       "      <td>2022-04-06</td>\n",
       "      <td>83.3520</td>\n",
       "      <td>Доллар США</td>\n",
       "    </tr>\n",
       "  </tbody>\n",
       "</table>\n",
       "</div>"
      ],
      "text/plain": [
       "   nominal       data     curs         cdx\n",
       "0        1 2022-04-12  79.1596  Доллар США\n",
       "1        1 2022-04-09  74.8501  Доллар США\n",
       "2        1 2022-04-08  76.2547  Доллар США\n",
       "3        1 2022-04-07  82.5962  Доллар США\n",
       "4        1 2022-04-06  83.3520  Доллар США"
      ]
     },
     "execution_count": 16,
     "metadata": {},
     "output_type": "execute_result"
    }
   ],
   "source": [
    "curs_dollar.head()"
   ]
  },
  {
   "cell_type": "code",
   "execution_count": 17,
   "metadata": {},
   "outputs": [
    {
     "name": "stdout",
     "output_type": "stream",
     "text": [
      "Начало: \t2010-03-02\n",
      "Конец: \t\t2022-04-12\n"
     ]
    }
   ],
   "source": [
    "min_date=curs_dollar.data.min()\n",
    "max_date=curs_dollar.data.max()\n",
    "print('Начало: \\t{0}\\nКонец: \\t\\t{1}'.format(min_date.strftime('%Y-%m-%d'),max_date.strftime('%Y-%m-%d')))"
   ]
  },
  {
   "cell_type": "markdown",
   "metadata": {},
   "source": [
    "##### Получим данные о курсе евров ЦБ Р"
   ]
  },
  {
   "cell_type": "code",
   "execution_count": 18,
   "metadata": {
    "collapsed": true
   },
   "outputs": [],
   "source": [
    "url_euro='http://cbr.ru/Queries/UniDbQuery/DownloadExcel/98956?Posted=True&so=1&mode=1&VAL_NM_RQ=R01239&From=02.03.2010&To=12.04.2022&FromDate=03%2F02%2F2010&ToDate=04%2F12%2F2022'"
   ]
  },
  {
   "cell_type": "code",
   "execution_count": 19,
   "metadata": {},
   "outputs": [
    {
     "name": "stdout",
     "output_type": "stream",
     "text": [
      "\r",
      "  0% [                                                                              ]     0 / 75321\r",
      " 10% [........                                                                      ]  8192 / 75321\r",
      " 21% [................                                                              ] 16384 / 75321\r",
      " 32% [.........................                                                     ] 24576 / 75321\r",
      " 43% [.................................                                             ] 32768 / 75321\r",
      " 54% [..........................................                                    ] 40960 / 75321\r",
      " 65% [..................................................                            ] 49152 / 75321\r",
      " 76% [...........................................................                   ] 57344 / 75321\r",
      " 87% [...................................................................           ] 65536 / 75321\r",
      " 97% [............................................................................  ] 73728 / 75321\r",
      "100% [..............................................................................] 75321 / 75321"
     ]
    }
   ],
   "source": [
    "curs_euro = pd.read_excel(wget.download(url_euro))"
   ]
  },
  {
   "cell_type": "code",
   "execution_count": 20,
   "metadata": {},
   "outputs": [
    {
     "data": {
      "text/html": [
       "<div>\n",
       "<style scoped>\n",
       "    .dataframe tbody tr th:only-of-type {\n",
       "        vertical-align: middle;\n",
       "    }\n",
       "\n",
       "    .dataframe tbody tr th {\n",
       "        vertical-align: top;\n",
       "    }\n",
       "\n",
       "    .dataframe thead th {\n",
       "        text-align: right;\n",
       "    }\n",
       "</style>\n",
       "<table border=\"1\" class=\"dataframe\">\n",
       "  <thead>\n",
       "    <tr style=\"text-align: right;\">\n",
       "      <th></th>\n",
       "      <th>nominal</th>\n",
       "      <th>data</th>\n",
       "      <th>curs</th>\n",
       "      <th>cdx</th>\n",
       "    </tr>\n",
       "  </thead>\n",
       "  <tbody>\n",
       "    <tr>\n",
       "      <td>0</td>\n",
       "      <td>1</td>\n",
       "      <td>2022-04-12</td>\n",
       "      <td>85.9752</td>\n",
       "      <td>Евро</td>\n",
       "    </tr>\n",
       "    <tr>\n",
       "      <td>1</td>\n",
       "      <td>1</td>\n",
       "      <td>2022-04-09</td>\n",
       "      <td>81.7064</td>\n",
       "      <td>Евро</td>\n",
       "    </tr>\n",
       "    <tr>\n",
       "      <td>2</td>\n",
       "      <td>1</td>\n",
       "      <td>2022-04-08</td>\n",
       "      <td>83.2930</td>\n",
       "      <td>Евро</td>\n",
       "    </tr>\n",
       "    <tr>\n",
       "      <td>3</td>\n",
       "      <td>1</td>\n",
       "      <td>2022-04-07</td>\n",
       "      <td>90.5998</td>\n",
       "      <td>Евро</td>\n",
       "    </tr>\n",
       "    <tr>\n",
       "      <td>4</td>\n",
       "      <td>1</td>\n",
       "      <td>2022-04-06</td>\n",
       "      <td>91.7289</td>\n",
       "      <td>Евро</td>\n",
       "    </tr>\n",
       "  </tbody>\n",
       "</table>\n",
       "</div>"
      ],
      "text/plain": [
       "   nominal       data     curs   cdx\n",
       "0        1 2022-04-12  85.9752  Евро\n",
       "1        1 2022-04-09  81.7064  Евро\n",
       "2        1 2022-04-08  83.2930  Евро\n",
       "3        1 2022-04-07  90.5998  Евро\n",
       "4        1 2022-04-06  91.7289  Евро"
      ]
     },
     "execution_count": 20,
     "metadata": {},
     "output_type": "execute_result"
    }
   ],
   "source": [
    "curs_euro.head()"
   ]
  },
  {
   "cell_type": "code",
   "execution_count": 21,
   "metadata": {},
   "outputs": [
    {
     "name": "stdout",
     "output_type": "stream",
     "text": [
      "Начало: \t2010-03-02\n",
      "Конец: \t\t2022-04-12\n"
     ]
    }
   ],
   "source": [
    "min_date=curs_euro.data.min()\n",
    "max_date=curs_euro.data.max()\n",
    "print('Начало: \\t{0}\\nКонец: \\t\\t{1}'.format(min_date.strftime('%Y-%m-%d'),max_date.strftime('%Y-%m-%d')))"
   ]
  },
  {
   "cell_type": "markdown",
   "metadata": {},
   "source": [
    "# Задание 1.\n",
    "\n",
    "Вы - менеджер по продажам в нефтехимической компании. Вы ведете несколько ключевых клиентов, которые закупают продукты вашей компании. Ваша компания запускает новый продукт - \"Волшебный белый порошок\" (ВБП), который по своим свойствам похож на тот, что уже есть на рынке. Ваши клиенты предпочитают формульный подход к ценообразованию. Вам нужно предложить клиентам формулу расчета цены на ВБП. В зависимости от объемов, которые покупают клиенты, им может быть предложена скидка.\n",
    "\n",
    "### Дополнительные вводные:\n",
    "\n",
    "Продукт производиться из нефти. Один из известных способов производства предполагает что из 16 баррелей нефти сделают одну тонну ВБП, а затраты на производство в районе 400 евро."
   ]
  },
  {
   "cell_type": "code",
   "execution_count": 22,
   "metadata": {
    "collapsed": true
   },
   "outputs": [],
   "source": [
    "\n",
    "\n",
    "# Затраты на производство (постоянные затраты в день)\n",
    "PRODUCTION_COST = 400 # (EUR)\n",
    "\n",
    "# Расходы на логистику\n",
    "EU_LOGISTIC_COST_EUR = 30 # в Европу в евро\n",
    "CN_LOGISTIC_COST_USD = 130 # в Китай в долларах\n",
    "\n",
    "# * Справочная информация по клиентам(объемы, локации, комментарии) \n",
    "customers = {\n",
    "    'Monty':{\n",
    "        'location':'EU',\n",
    "        'volumes':200,\n",
    "        'comment':'moving_average'\n",
    "    },\n",
    "    \n",
    "    'Triangle':{\n",
    "        'location':'CN',\n",
    "        'volumes': 30,\n",
    "        'comment': 'monthly'\n",
    "    },\n",
    "    'Stone':{\n",
    "        'location':'EU',\n",
    "        'volumes': 150,\n",
    "        'comment': 'moving_average'\n",
    "    },\n",
    "    'Poly':{\n",
    "        'location':'EU',\n",
    "        'volumes': 70,\n",
    "        'comment': 'monthly'\n",
    "    }\n",
    "}\n",
    "# Скидки\n",
    "discounts = {'up to 100': 0.01, # 1%\n",
    "             'up to 300': 0.05, # 5%\n",
    "             '300 plus': 0.1}   #10%\n",
    "\n",
    "# Дополнительные параметры\n",
    "\n",
    "DAY_PRODUCT_VOLUME=500 # дневная выработка продукта (в тоннах)\n",
    "\n",
    "WEEKEND_PRODUCT_VOLUME_DECREASE_RATE=0.6\n",
    "\n",
    "NEEDED_OIL_PER_1000_KG=16\n",
    "\n",
    "MARGIN=0.275"
   ]
  },
  {
   "cell_type": "markdown",
   "metadata": {},
   "source": [
    "### Что нужно сделать?"
   ]
  },
  {
   "cell_type": "markdown",
   "metadata": {},
   "source": [
    "##### 1. Проанализировать имеющиеся данные."
   ]
  },
  {
   "cell_type": "markdown",
   "metadata": {},
   "source": [
    "Допущения и драйверы:\n",
    "1. Компания, производящая ВБП, является российской (валюта - рубли).\n",
    "2. Нефть преобретается у нефтедобывающих компаний в долларах.\n",
    "3. Стоимость нефти на дату сделки определяется по катировкам на американской бирже (по цене закрытия).\n",
    "4. В стоимость нефти входят расходы на ее транспортировку до хранилищ нефтехимической компании.\n",
    "5. Мощности нефтехимической компании обеспечивают дневную выработку ВБП в объеме 500 тонн.\n",
    "6. Постоянные издержки составляют 400 евро в день.\n",
    "7. Выработка в выходные дни сокращается на 60%.\n",
    "8. Все транзакции проводятся одним днем.\n",
    "9. Объема хранилищ нефтехимической компании достаточно для бесперебойного производства (покупаем нефть под нужды производства сегодня, но расходуем на сегодняшнее производство нефть уже находящуюся в хранилищах, а оплаченная сегодня нефть поступает в течение установленных сроков от поставщика в хранилища).\n",
    "10. Валютный рынок - из \"Зазеркалья\": цена покупки и продажи валюты одинакова!"
   ]
  },
  {
   "cell_type": "markdown",
   "metadata": {},
   "source": [
    "###### 2. Определить базовую формулу цены на условиях FCA (цена на заводе). То есть как бы выглядела цена на исторических данных."
   ]
  },
  {
   "cell_type": "markdown",
   "metadata": {},
   "source": [
    "Для расчета дневной цены используются следующие формулы:\n",
    "\n",
    "для рабочего дня\n",
    "$$priceCalc=\\frac{(V_d*V_{ton}*P+C)*(1+M)}{V_d}$$\n",
    "для выходного дня\n",
    "$$priceCalc=\\frac{((1-D)*V_d*V_{ton}*P+C)*(1+M)}{(1-D)*V_d}$$\n",
    "\n",
    "где<br>\n",
    "$V_d$ - (дневной) объем выработки<br>\n",
    "$V_{ton}$ - объем нефти, необходимый для производства одной тонны ВБП<br>\n",
    "$P$ - цена нефти в долларах<br>\n",
    "$C$ - постоянные (дневные) затраты на производство одной тонны ВБП<br>\n",
    "$M$ - маржа<br>\n",
    "$D$ - степень снижения выработки в выходные"
   ]
  },
  {
   "cell_type": "code",
   "execution_count": 23,
   "metadata": {
    "collapsed": true
   },
   "outputs": [],
   "source": [
    "# Функция расчета цены\n",
    "def priceCalc(oilPrices,strDt='2022-01-01'):\n",
    "    d=datetime.datetime.strptime(strDt,'%Y-%m-%d').date()\n",
    "    \n",
    "    day_oil_price=float(oilPrices[oilPrices.Date==d].Close.max())\n",
    "    day_dollar_production_cost=PRODUCTION_COST*curs_dollar[curs_dollar.data==d].curs.max()/curs_euro[curs_euro.data==d].curs.max()\n",
    "    \n",
    "    \n",
    "    if datetime.datetime.weekday(d) in [0,1,2,3,4]:\n",
    "        priceCalc = (DAY_PRODUCT_VOLUME*NEEDED_OIL_PER_1000_KG*day_oil_price+day_dollar_production_cost)*(1+MARGIN)/DAY_PRODUCT_VOLUME\n",
    "    else:\n",
    "        priceCalc=((1-WEEKEND_PRODUCT_VOLUME_DECREASE_RATE)*DAY_PRODUCT_VOLUME*NEEDED_OIL_PER_1000_KG*day_oil_price+day_dollar_production_cost)*(1+MARGIN)/((1-WEEKEND_PRODUCT_VOLUME_DECREASE_RATE)*DAY_PRODUCT_VOLUME)\n",
    "    \n",
    "    return {'USD':round(priceCalc,2),'EUR':round(priceCalc/(curs_dollar[curs_dollar.data==d].curs.max()/curs_euro[curs_euro.data==d].curs.max()),2)}"
   ]
  },
  {
   "cell_type": "markdown",
   "metadata": {},
   "source": [
    "###### 3. Отобразить на графике (базовую цену)."
   ]
  },
  {
   "cell_type": "code",
   "execution_count": 24,
   "metadata": {
    "collapsed": true
   },
   "outputs": [],
   "source": [
    "# Сформируем список дат с 12.03.2022 по 12.04.2022\n",
    "last_month_dates=[]\n",
    "for i in range(12,32):\n",
    "    last_month_dates.append(datetime.date(2022,3,i))\n",
    "for i in range(1,13):\n",
    "    last_month_dates.append(datetime.date(2022,4,i))"
   ]
  },
  {
   "cell_type": "code",
   "execution_count": 25,
   "metadata": {},
   "outputs": [
    {
     "name": "stderr",
     "output_type": "stream",
     "text": [
      "C:\\Users\\iraid\\AppData\\Local\\Continuum\\anaconda3\\lib\\site-packages\\ipykernel_launcher.py:6: FutureWarning: Comparing Series of datetimes with 'datetime.date'.  Currently, the\n",
      "'datetime.date' is coerced to a datetime. In the future pandas will\n",
      "not coerce, and 'the values will not compare equal to the\n",
      "'datetime.date'. To retain the current behavior, convert the\n",
      "'datetime.date' to a datetime with 'pd.Timestamp'.\n",
      "  \n",
      "C:\\Users\\iraid\\AppData\\Local\\Continuum\\anaconda3\\lib\\site-packages\\ipykernel_launcher.py:14: FutureWarning: Comparing Series of datetimes with 'datetime.date'.  Currently, the\n",
      "'datetime.date' is coerced to a datetime. In the future pandas will\n",
      "not coerce, and 'the values will not compare equal to the\n",
      "'datetime.date'. To retain the current behavior, convert the\n",
      "'datetime.date' to a datetime with 'pd.Timestamp'.\n",
      "  \n"
     ]
    }
   ],
   "source": [
    "pricesInUSD=[]\n",
    "pricesInEUR=[]\n",
    "for d in last_month_dates:\n",
    "    prices=priceCalc(Oil_prices,datetime.datetime.strftime(d,'%Y-%m-%d'))\n",
    "    pricesInUSD.append(prices['USD'])\n",
    "    pricesInEUR.append(prices['EUR'])\n",
    "\n",
    "samplePricesLastMonth=pd.DataFrame({'Date':last_month_dates,'PriceUSD':pricesInUSD,'PriceEUR':pricesInEUR})"
   ]
  },
  {
   "cell_type": "code",
   "execution_count": 26,
   "metadata": {},
   "outputs": [
    {
     "data": {
      "text/html": [
       "<div>\n",
       "<style scoped>\n",
       "    .dataframe tbody tr th:only-of-type {\n",
       "        vertical-align: middle;\n",
       "    }\n",
       "\n",
       "    .dataframe tbody tr th {\n",
       "        vertical-align: top;\n",
       "    }\n",
       "\n",
       "    .dataframe thead th {\n",
       "        text-align: right;\n",
       "    }\n",
       "</style>\n",
       "<table border=\"1\" class=\"dataframe\">\n",
       "  <thead>\n",
       "    <tr style=\"text-align: right;\">\n",
       "      <th></th>\n",
       "      <th>Date</th>\n",
       "      <th>PriceUSD</th>\n",
       "      <th>PriceEUR</th>\n",
       "    </tr>\n",
       "  </thead>\n",
       "  <tbody>\n",
       "    <tr>\n",
       "      <td>0</td>\n",
       "      <td>2022-03-12</td>\n",
       "      <td>NaN</td>\n",
       "      <td>NaN</td>\n",
       "    </tr>\n",
       "    <tr>\n",
       "      <td>1</td>\n",
       "      <td>2022-03-13</td>\n",
       "      <td>NaN</td>\n",
       "      <td>NaN</td>\n",
       "    </tr>\n",
       "    <tr>\n",
       "      <td>2</td>\n",
       "      <td>2022-03-14</td>\n",
       "      <td>NaN</td>\n",
       "      <td>NaN</td>\n",
       "    </tr>\n",
       "    <tr>\n",
       "      <td>3</td>\n",
       "      <td>2022-03-15</td>\n",
       "      <td>1968.30</td>\n",
       "      <td>2173.99</td>\n",
       "    </tr>\n",
       "    <tr>\n",
       "      <td>4</td>\n",
       "      <td>2022-03-16</td>\n",
       "      <td>1939.74</td>\n",
       "      <td>2130.62</td>\n",
       "    </tr>\n",
       "    <tr>\n",
       "      <td>5</td>\n",
       "      <td>2022-03-17</td>\n",
       "      <td>2101.72</td>\n",
       "      <td>2310.00</td>\n",
       "    </tr>\n",
       "    <tr>\n",
       "      <td>6</td>\n",
       "      <td>2022-03-18</td>\n",
       "      <td>2136.80</td>\n",
       "      <td>2363.73</td>\n",
       "    </tr>\n",
       "    <tr>\n",
       "      <td>7</td>\n",
       "      <td>2022-03-19</td>\n",
       "      <td>NaN</td>\n",
       "      <td>NaN</td>\n",
       "    </tr>\n",
       "    <tr>\n",
       "      <td>8</td>\n",
       "      <td>2022-03-20</td>\n",
       "      <td>NaN</td>\n",
       "      <td>NaN</td>\n",
       "    </tr>\n",
       "    <tr>\n",
       "      <td>9</td>\n",
       "      <td>2022-03-21</td>\n",
       "      <td>NaN</td>\n",
       "      <td>NaN</td>\n",
       "    </tr>\n",
       "  </tbody>\n",
       "</table>\n",
       "</div>"
      ],
      "text/plain": [
       "         Date  PriceUSD  PriceEUR\n",
       "0  2022-03-12       NaN       NaN\n",
       "1  2022-03-13       NaN       NaN\n",
       "2  2022-03-14       NaN       NaN\n",
       "3  2022-03-15   1968.30   2173.99\n",
       "4  2022-03-16   1939.74   2130.62\n",
       "5  2022-03-17   2101.72   2310.00\n",
       "6  2022-03-18   2136.80   2363.73\n",
       "7  2022-03-19       NaN       NaN\n",
       "8  2022-03-20       NaN       NaN\n",
       "9  2022-03-21       NaN       NaN"
      ]
     },
     "execution_count": 26,
     "metadata": {},
     "output_type": "execute_result"
    }
   ],
   "source": [
    "samplePricesLastMonth.head(10)"
   ]
  },
  {
   "cell_type": "code",
   "execution_count": 27,
   "metadata": {
    "collapsed": true
   },
   "outputs": [],
   "source": [
    "# заменим отсутствующие значения последующими\n",
    "samplePricesLastMonth=samplePricesLastMonth.fillna(method='bfill')"
   ]
  },
  {
   "cell_type": "code",
   "execution_count": 28,
   "metadata": {},
   "outputs": [
    {
     "data": {
      "text/html": [
       "<div>\n",
       "<style scoped>\n",
       "    .dataframe tbody tr th:only-of-type {\n",
       "        vertical-align: middle;\n",
       "    }\n",
       "\n",
       "    .dataframe tbody tr th {\n",
       "        vertical-align: top;\n",
       "    }\n",
       "\n",
       "    .dataframe thead th {\n",
       "        text-align: right;\n",
       "    }\n",
       "</style>\n",
       "<table border=\"1\" class=\"dataframe\">\n",
       "  <thead>\n",
       "    <tr style=\"text-align: right;\">\n",
       "      <th></th>\n",
       "      <th>Date</th>\n",
       "      <th>PriceUSD</th>\n",
       "      <th>PriceEUR</th>\n",
       "    </tr>\n",
       "  </thead>\n",
       "  <tbody>\n",
       "    <tr>\n",
       "      <td>0</td>\n",
       "      <td>2022-03-12</td>\n",
       "      <td>1968.30</td>\n",
       "      <td>2173.99</td>\n",
       "    </tr>\n",
       "    <tr>\n",
       "      <td>1</td>\n",
       "      <td>2022-03-13</td>\n",
       "      <td>1968.30</td>\n",
       "      <td>2173.99</td>\n",
       "    </tr>\n",
       "    <tr>\n",
       "      <td>2</td>\n",
       "      <td>2022-03-14</td>\n",
       "      <td>1968.30</td>\n",
       "      <td>2173.99</td>\n",
       "    </tr>\n",
       "    <tr>\n",
       "      <td>3</td>\n",
       "      <td>2022-03-15</td>\n",
       "      <td>1968.30</td>\n",
       "      <td>2173.99</td>\n",
       "    </tr>\n",
       "    <tr>\n",
       "      <td>4</td>\n",
       "      <td>2022-03-16</td>\n",
       "      <td>1939.74</td>\n",
       "      <td>2130.62</td>\n",
       "    </tr>\n",
       "    <tr>\n",
       "      <td>5</td>\n",
       "      <td>2022-03-17</td>\n",
       "      <td>2101.72</td>\n",
       "      <td>2310.00</td>\n",
       "    </tr>\n",
       "    <tr>\n",
       "      <td>6</td>\n",
       "      <td>2022-03-18</td>\n",
       "      <td>2136.80</td>\n",
       "      <td>2363.73</td>\n",
       "    </tr>\n",
       "    <tr>\n",
       "      <td>7</td>\n",
       "      <td>2022-03-19</td>\n",
       "      <td>2280.83</td>\n",
       "      <td>2518.72</td>\n",
       "    </tr>\n",
       "    <tr>\n",
       "      <td>8</td>\n",
       "      <td>2022-03-20</td>\n",
       "      <td>2280.83</td>\n",
       "      <td>2518.72</td>\n",
       "    </tr>\n",
       "    <tr>\n",
       "      <td>9</td>\n",
       "      <td>2022-03-21</td>\n",
       "      <td>2280.83</td>\n",
       "      <td>2518.72</td>\n",
       "    </tr>\n",
       "  </tbody>\n",
       "</table>\n",
       "</div>"
      ],
      "text/plain": [
       "         Date  PriceUSD  PriceEUR\n",
       "0  2022-03-12   1968.30   2173.99\n",
       "1  2022-03-13   1968.30   2173.99\n",
       "2  2022-03-14   1968.30   2173.99\n",
       "3  2022-03-15   1968.30   2173.99\n",
       "4  2022-03-16   1939.74   2130.62\n",
       "5  2022-03-17   2101.72   2310.00\n",
       "6  2022-03-18   2136.80   2363.73\n",
       "7  2022-03-19   2280.83   2518.72\n",
       "8  2022-03-20   2280.83   2518.72\n",
       "9  2022-03-21   2280.83   2518.72"
      ]
     },
     "execution_count": 28,
     "metadata": {},
     "output_type": "execute_result"
    }
   ],
   "source": [
    "samplePricesLastMonth.head(10)"
   ]
  },
  {
   "cell_type": "code",
   "execution_count": 29,
   "metadata": {},
   "outputs": [
    {
     "data": {
      "image/png": "[encoded data removed]",
      "text/plain": [
       "<matplotlib.figure.Figure at 0x1ec4648b5c0>"
      ]
     },
     "metadata": {},
     "output_type": "display_data"
    }
   ],
   "source": [
    "plt.figure(figsize=(20,8))\n",
    "plt.plot(samplePricesLastMonth.PriceUSD,label='USD',linestyle='dashed', marker='o')\n",
    "plt.plot(samplePricesLastMonth.PriceEUR,label='EUR',linestyle='dotted', marker='^');\n",
    "plt.xticks(range(len(samplePricesLastMonth.Date)),samplePricesLastMonth.Date,rotation=90)\n",
    "plt.title('Динамика цен на ВБП за последний скользящий месяц',size=20)\n",
    "plt.legend()\n",
    "plt.ylabel('денежных единиц',size=15);"
   ]
  },
  {
   "cell_type": "markdown",
   "metadata": {},
   "source": [
    "##### 4. Сделать расчет возможной цены (стоимости с учетом региона и скидки) по формуле для каждого из клиентов на условиях DDP (цена с доставкой). Записать все в один эксель файл, на разных листах. Каждый лист - название клиента."
   ]
  },
  {
   "cell_type": "code",
   "execution_count": 30,
   "metadata": {
    "collapsed": true
   },
   "outputs": [],
   "source": [
    "# функция, формирующая \"прайслист\" за последний (скользящий) месяц\n",
    "def CustomersPriceList(dayli_prices,logistic_costs,customers,discounts):\n",
    "    #CustomersPriceList=np.nan\n",
    "    \n",
    "    CustomersPriceList=pd.DataFrame({'Date':[],'Customer':[],'Location':[],'Volume':[],'Price':[],'Base_costs':[],'Transport_costs':[],'Total_costs':[]})\n",
    "    \n",
    "    for customer in customers.keys():\n",
    "        wDF=dayli_prices.copy()\n",
    "        wDF['Customer']=customer\n",
    "        wDF['Location']=customers[customer]['location']\n",
    "        wDF['Volume']=customers[customer]['volumes']\n",
    "        if customers[customer]['location'] == 'EU':\n",
    "            wDF['Base_costs']=wDF['Volume']*dayli_prices['PriceEUR']\n",
    "            wDF['Transport_costs']=logistic_costs['EU']*wDF['Volume']\n",
    "            wDF.drop(['PriceUSD'],axis=1,inplace=True)\n",
    "            wDF.rename(columns={'PriceEUR':'Price'},inplace=True)\n",
    "        elif customers[customer]['location'] == 'CN':\n",
    "            wDF['Base_costs']=wDF['Volume']*dayli_prices['PriceUSD']\n",
    "            wDF['Transport_costs']=logistic_costs['CN']*wDF['Volume']\n",
    "            wDF.drop(['PriceEUR'],axis=1,inplace=True)\n",
    "            wDF.rename(columns={'PriceUSD':'Price'},inplace=True)\n",
    "        wDF['Total_costs']=wDF['Base_costs']+wDF['Transport_costs']\n",
    "        \n",
    "        if customers[customer]['volumes']>300:\n",
    "            wDF['Discount']=discounts['300 plus']\n",
    "        elif customers[customer]['volumes']>100:\n",
    "            wDF['Discount']=discounts['up to 300']\n",
    "        else:\n",
    "            wDF['Discount']=discounts['up to 100']\n",
    "            \n",
    "        wDF['Total_costs']=wDF['Total_costs']*wDF['Discount']\n",
    "        \n",
    "        #wDF=wDF[['Date','Customer','Location','Volume','Price','Base_costs','Transport_costs','Discount','Total_costs']]\n",
    "        \n",
    "        CustomersPriceList=pd.concat([CustomersPriceList,wDF],axis=0,sort=False)\n",
    "    \n",
    "        CustomersPriceList=CustomersPriceList[['Date','Customer','Location','Volume','Price','Base_costs','Transport_costs','Discount','Total_costs']]\n",
    "    \n",
    "    \n",
    "    return CustomersPriceList"
   ]
  },
  {
   "cell_type": "code",
   "execution_count": 31,
   "metadata": {
    "collapsed": true
   },
   "outputs": [],
   "source": [
    "DFtoExcel=CustomersPriceList(samplePricesLastMonth,{'EU':EU_LOGISTIC_COST_EUR,'CN':CN_LOGISTIC_COST_USD},customers,discounts)"
   ]
  },
  {
   "cell_type": "code",
   "execution_count": 32,
   "metadata": {},
   "outputs": [
    {
     "data": {
      "text/html": [
       "<div>\n",
       "<style scoped>\n",
       "    .dataframe tbody tr th:only-of-type {\n",
       "        vertical-align: middle;\n",
       "    }\n",
       "\n",
       "    .dataframe tbody tr th {\n",
       "        vertical-align: top;\n",
       "    }\n",
       "\n",
       "    .dataframe thead th {\n",
       "        text-align: right;\n",
       "    }\n",
       "</style>\n",
       "<table border=\"1\" class=\"dataframe\">\n",
       "  <thead>\n",
       "    <tr style=\"text-align: right;\">\n",
       "      <th></th>\n",
       "      <th>Date</th>\n",
       "      <th>Customer</th>\n",
       "      <th>Location</th>\n",
       "      <th>Volume</th>\n",
       "      <th>Price</th>\n",
       "      <th>Base_costs</th>\n",
       "      <th>Transport_costs</th>\n",
       "      <th>Discount</th>\n",
       "      <th>Total_costs</th>\n",
       "    </tr>\n",
       "  </thead>\n",
       "  <tbody>\n",
       "    <tr>\n",
       "      <td>0</td>\n",
       "      <td>2022-03-12</td>\n",
       "      <td>Monty</td>\n",
       "      <td>EU</td>\n",
       "      <td>200.0</td>\n",
       "      <td>2173.99</td>\n",
       "      <td>434798.0</td>\n",
       "      <td>6000.0</td>\n",
       "      <td>0.05</td>\n",
       "      <td>22039.9</td>\n",
       "    </tr>\n",
       "    <tr>\n",
       "      <td>1</td>\n",
       "      <td>2022-03-13</td>\n",
       "      <td>Monty</td>\n",
       "      <td>EU</td>\n",
       "      <td>200.0</td>\n",
       "      <td>2173.99</td>\n",
       "      <td>434798.0</td>\n",
       "      <td>6000.0</td>\n",
       "      <td>0.05</td>\n",
       "      <td>22039.9</td>\n",
       "    </tr>\n",
       "    <tr>\n",
       "      <td>2</td>\n",
       "      <td>2022-03-14</td>\n",
       "      <td>Monty</td>\n",
       "      <td>EU</td>\n",
       "      <td>200.0</td>\n",
       "      <td>2173.99</td>\n",
       "      <td>434798.0</td>\n",
       "      <td>6000.0</td>\n",
       "      <td>0.05</td>\n",
       "      <td>22039.9</td>\n",
       "    </tr>\n",
       "    <tr>\n",
       "      <td>3</td>\n",
       "      <td>2022-03-15</td>\n",
       "      <td>Monty</td>\n",
       "      <td>EU</td>\n",
       "      <td>200.0</td>\n",
       "      <td>2173.99</td>\n",
       "      <td>434798.0</td>\n",
       "      <td>6000.0</td>\n",
       "      <td>0.05</td>\n",
       "      <td>22039.9</td>\n",
       "    </tr>\n",
       "    <tr>\n",
       "      <td>4</td>\n",
       "      <td>2022-03-16</td>\n",
       "      <td>Monty</td>\n",
       "      <td>EU</td>\n",
       "      <td>200.0</td>\n",
       "      <td>2130.62</td>\n",
       "      <td>426124.0</td>\n",
       "      <td>6000.0</td>\n",
       "      <td>0.05</td>\n",
       "      <td>21606.2</td>\n",
       "    </tr>\n",
       "  </tbody>\n",
       "</table>\n",
       "</div>"
      ],
      "text/plain": [
       "         Date Customer Location  Volume    Price  Base_costs  Transport_costs  \\\n",
       "0  2022-03-12    Monty       EU   200.0  2173.99    434798.0           6000.0   \n",
       "1  2022-03-13    Monty       EU   200.0  2173.99    434798.0           6000.0   \n",
       "2  2022-03-14    Monty       EU   200.0  2173.99    434798.0           6000.0   \n",
       "3  2022-03-15    Monty       EU   200.0  2173.99    434798.0           6000.0   \n",
       "4  2022-03-16    Monty       EU   200.0  2130.62    426124.0           6000.0   \n",
       "\n",
       "   Discount  Total_costs  \n",
       "0      0.05      22039.9  \n",
       "1      0.05      22039.9  \n",
       "2      0.05      22039.9  \n",
       "3      0.05      22039.9  \n",
       "4      0.05      21606.2  "
      ]
     },
     "execution_count": 32,
     "metadata": {},
     "output_type": "execute_result"
    }
   ],
   "source": [
    "DFtoExcel.head()"
   ]
  },
  {
   "cell_type": "code",
   "execution_count": 33,
   "metadata": {
    "collapsed": true
   },
   "outputs": [],
   "source": [
    "with pd.ExcelWriter('ActualPriceListsMWP.xlsx') as writer:  \n",
    "    for c in DFtoExcel['Customer'].unique():\n",
    "            DFtoExcel[DFtoExcel['Customer']==c].to_excel(writer, sheet_name=c)"
   ]
  },
  {
   "cell_type": "markdown",
   "metadata": {},
   "source": [
    "##### 5. Предложить формулу цены каждому из клиентов на условиях DDP (цена с доставкой).\n",
    "##### - Создать директорию «для клиентов» и в ней сложить  файлы с расчетами.\n",
    "###### - Каждый клиент - отдельный файл (любой из docx, xlsx, pptx, pdf)  с именем клиента…"
   ]
  },
  {
   "cell_type": "code",
   "execution_count": null,
   "metadata": {
    "collapsed": true
   },
   "outputs": [],
   "source": []
  },
  {
   "cell_type": "markdown",
   "metadata": {},
   "source": [
    "### В результате должно быть 3 файла:\n",
    "1. Ноутбук с расчетами и графиками. \n",
    "2. Скрипт, который делает расчет цены для каждого клиента в одном файле\n",
    "2. Скрипт, который делает расчет цены для каждого клиента в отельном файле"
   ]
  },
  {
   "cell_type": "code",
   "execution_count": 636,
   "metadata": {
    "collapsed": true
   },
   "outputs": [],
   "source": [
    "# "
   ]
  },
  {
   "cell_type": "markdown",
   "metadata": {},
   "source": [
    "# Задание 2. "
   ]
  },
  {
   "cell_type": "markdown",
   "metadata": {},
   "source": [
    "Клиенты согласились на ваше предложение. \n",
    "Вам нужно сделать написать скрипт, с помощью которого можно автоматом рассчитывать цены для всех клиентов одновременно. \n",
    "Важный момент: данные для расчета скрипт должен подтягивать сам.\n",
    "\n",
    "В результате должно быть 3 файла\n",
    "1. Ноутбук с расчетами и графиками (чтобы данные подтягивались туда)\n",
    "2. Скрипт, который делает расчет цены для клиента (чтобы данные подтягивались туда сами)"
   ]
  },
  {
   "cell_type": "code",
   "execution_count": 637,
   "metadata": {
    "collapsed": true
   },
   "outputs": [],
   "source": [
    "# "
   ]
  },
  {
   "cell_type": "markdown",
   "metadata": {},
   "source": [
    "# Задание 3. \n",
    "К вам пришел новый клиент из России. Который использует продукт А и готов регулярно закупать ВБП для того, чтобы не быть привязанным к одному поставщику. Клиент готов забирать ВБП с завода самостоятельно.\n",
    "1. На основе тех данных, которые уже есть предложите цену новому клиенту. \n",
    "2. Подготовьте скрипт, который будет использовать курс публикуемый на <a href='http://www.cbr.ru/currency_base/dynamics/'> сайте ЦБ РФ</a>.\n"
   ]
  },
  {
   "cell_type": "code",
   "execution_count": 638,
   "metadata": {
    "collapsed": true
   },
   "outputs": [],
   "source": [
    "# "
   ]
  },
  {
   "cell_type": "markdown",
   "metadata": {},
   "source": [
    "# Задание 4. "
   ]
  },
  {
   "cell_type": "markdown",
   "metadata": {},
   "source": [
    "* Подумайте, как можно проверить корректность работы алгоритма? \n",
    "* Какие возможны ошибки?\n",
    "* Придумайте тесты для проверки возможных ошибок алгоритма\n",
    "* Интергрируйте их в свои скрипты в виде исключений\n"
   ]
  },
  {
   "cell_type": "code",
   "execution_count": 639,
   "metadata": {
    "collapsed": true
   },
   "outputs": [],
   "source": [
    "# "
   ]
  },
  {
   "cell_type": "markdown",
   "metadata": {},
   "source": [
    "# Задание 5."
   ]
  },
  {
   "cell_type": "markdown",
   "metadata": {},
   "source": [
    "Вы решили пойти в отпуск на время вашего отсутствия вас будет заменять коллега. Он будет заниматься рассчетом цен для клиентов. Чтобы ему было проще вам нужно завернуть ваши скрипты в модуль, который будет запускать у себя коллега."
   ]
  },
  {
   "cell_type": "markdown",
   "metadata": {},
   "source": [
    "* Создайте модуль, который можно запускать в ноутбуке подкладывая в ту же директорию\n",
    "* Хорошенько задокументируйте ВСЁ, но помните о PEP8"
   ]
  },
  {
   "cell_type": "code",
   "execution_count": 640,
   "metadata": {
    "collapsed": true
   },
   "outputs": [],
   "source": [
    "# import yourpackage"
   ]
  },
  {
   "cell_type": "markdown",
   "metadata": {},
   "source": [
    "# Задание 6. "
   ]
  },
  {
   "cell_type": "markdown",
   "metadata": {},
   "source": [
    "Ваши коллеги узнали, что вы быстро рассчитываете цены для формульных контрактов, и решили использовать такую же практику для своих продуктов и клиентов. Вам нужно создать пакет, чтобы его было проще устанавливать и использовать."
   ]
  },
  {
   "cell_type": "markdown",
   "metadata": {},
   "source": [
    "* Создайте отдельный пакет, который можно устанавливать с помощью pip \n",
    "* В пакете должны быть реализованы функции для рассчета цен по формульным контрактам\n",
    "* Выложите пакет в репозиторий"
   ]
  },
  {
   "cell_type": "code",
   "execution_count": 641,
   "metadata": {
    "collapsed": true
   },
   "outputs": [],
   "source": [
    "# !pip install yourpackage\n",
    "# import yourpackage"
   ]
  }
 ],
 "metadata": {
  "kernelspec": {
   "display_name": "Python 3",
   "language": "python",
   "name": "python3"
  },
  "language_info": {
   "codemirror_mode": {
    "name": "ipython",
    "version": 3
   },
   "file_extension": ".py",
   "mimetype": "text/x-python",
   "name": "python",
   "nbconvert_exporter": "python",
   "pygments_lexer": "ipython3",
   "version": "3.6.3"
  }
 },
 "nbformat": 4,
 "nbformat_minor": 4
}
